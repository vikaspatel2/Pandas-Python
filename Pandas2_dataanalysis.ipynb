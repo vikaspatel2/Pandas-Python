{
 "cells": [
  {
   "cell_type": "code",
   "execution_count": 9,
   "id": "bf499175",
   "metadata": {},
   "outputs": [],
   "source": [
    "import numpy as np\n",
    "import pandas as pd"
   ]
  },
  {
   "cell_type": "code",
   "execution_count": null,
   "id": "6f951940",
   "metadata": {},
   "outputs": [],
   "source": []
  },
  {
   "cell_type": "code",
   "execution_count": 19,
   "id": "c6548584",
   "metadata": {},
   "outputs": [
    {
     "data": {
      "text/html": [
       "<div>\n",
       "<style scoped>\n",
       "    .dataframe tbody tr th:only-of-type {\n",
       "        vertical-align: middle;\n",
       "    }\n",
       "\n",
       "    .dataframe tbody tr th {\n",
       "        vertical-align: top;\n",
       "    }\n",
       "\n",
       "    .dataframe thead th {\n",
       "        text-align: right;\n",
       "    }\n",
       "</style>\n",
       "<table border=\"1\" class=\"dataframe\">\n",
       "  <thead>\n",
       "    <tr style=\"text-align: right;\">\n",
       "      <th></th>\n",
       "      <th>year</th>\n",
       "      <th>industry_code_ANZSIC</th>\n",
       "      <th>industry_name_ANZSIC</th>\n",
       "      <th>rme_size_grp</th>\n",
       "      <th>variable</th>\n",
       "      <th>value</th>\n",
       "      <th>unit</th>\n",
       "    </tr>\n",
       "  </thead>\n",
       "  <tbody>\n",
       "    <tr>\n",
       "      <th>0</th>\n",
       "      <td>2011</td>\n",
       "      <td>A</td>\n",
       "      <td>Agriculture, Forestry and Fishing</td>\n",
       "      <td>a_0</td>\n",
       "      <td>Activity unit</td>\n",
       "      <td>46134</td>\n",
       "      <td>COUNT</td>\n",
       "    </tr>\n",
       "    <tr>\n",
       "      <th>1</th>\n",
       "      <td>2011</td>\n",
       "      <td>A</td>\n",
       "      <td>Agriculture, Forestry and Fishing</td>\n",
       "      <td>a_0</td>\n",
       "      <td>Rolling mean employees</td>\n",
       "      <td>0</td>\n",
       "      <td>COUNT</td>\n",
       "    </tr>\n",
       "    <tr>\n",
       "      <th>2</th>\n",
       "      <td>2011</td>\n",
       "      <td>A</td>\n",
       "      <td>Agriculture, Forestry and Fishing</td>\n",
       "      <td>a_0</td>\n",
       "      <td>Salaries and wages paid</td>\n",
       "      <td>279</td>\n",
       "      <td>DOLLARS(millions)</td>\n",
       "    </tr>\n",
       "    <tr>\n",
       "      <th>3</th>\n",
       "      <td>2011</td>\n",
       "      <td>A</td>\n",
       "      <td>Agriculture, Forestry and Fishing</td>\n",
       "      <td>a_0</td>\n",
       "      <td>Sales, government funding, grants and subsidies</td>\n",
       "      <td>8187</td>\n",
       "      <td>DOLLARS(millions)</td>\n",
       "    </tr>\n",
       "    <tr>\n",
       "      <th>4</th>\n",
       "      <td>2011</td>\n",
       "      <td>A</td>\n",
       "      <td>Agriculture, Forestry and Fishing</td>\n",
       "      <td>a_0</td>\n",
       "      <td>Total income</td>\n",
       "      <td>8866</td>\n",
       "      <td>DOLLARS(millions)</td>\n",
       "    </tr>\n",
       "  </tbody>\n",
       "</table>\n",
       "</div>"
      ],
      "text/plain": [
       "   year industry_code_ANZSIC               industry_name_ANZSIC rme_size_grp  \\\n",
       "0  2011                    A  Agriculture, Forestry and Fishing          a_0   \n",
       "1  2011                    A  Agriculture, Forestry and Fishing          a_0   \n",
       "2  2011                    A  Agriculture, Forestry and Fishing          a_0   \n",
       "3  2011                    A  Agriculture, Forestry and Fishing          a_0   \n",
       "4  2011                    A  Agriculture, Forestry and Fishing          a_0   \n",
       "\n",
       "                                          variable  value               unit  \n",
       "0                                    Activity unit  46134              COUNT  \n",
       "1                           Rolling mean employees      0              COUNT  \n",
       "2                          Salaries and wages paid    279  DOLLARS(millions)  \n",
       "3  Sales, government funding, grants and subsidies   8187  DOLLARS(millions)  \n",
       "4                                     Total income   8866  DOLLARS(millions)  "
      ]
     },
     "execution_count": 19,
     "metadata": {},
     "output_type": "execute_result"
    }
   ],
   "source": [
    "df = pd.read_csv(r'/storage/emulated/0/Download/readpdfile.csv')\n",
    "df.head()"
   ]
  },
  {
   "cell_type": "code",
   "execution_count": 36,
   "id": "bb237184",
   "metadata": {},
   "outputs": [
    {
     "data": {
      "text/plain": [
       "(15480, 7)"
      ]
     },
     "execution_count": 36,
     "metadata": {},
     "output_type": "execute_result"
    }
   ],
   "source": [
    "df.shape"
   ]
  },
  {
   "cell_type": "code",
   "execution_count": 43,
   "id": "d966d605",
   "metadata": {},
   "outputs": [
    {
     "data": {
      "text/html": [
       "<div>\n",
       "<style scoped>\n",
       "    .dataframe tbody tr th:only-of-type {\n",
       "        vertical-align: middle;\n",
       "    }\n",
       "\n",
       "    .dataframe tbody tr th {\n",
       "        vertical-align: top;\n",
       "    }\n",
       "\n",
       "    .dataframe thead th {\n",
       "        text-align: right;\n",
       "    }\n",
       "</style>\n",
       "<table border=\"1\" class=\"dataframe\">\n",
       "  <thead>\n",
       "    <tr style=\"text-align: right;\">\n",
       "      <th></th>\n",
       "      <th>year</th>\n",
       "      <th>industry_code_ANZSIC</th>\n",
       "      <th>industry_name_ANZSIC</th>\n",
       "      <th>rme_size_grp</th>\n",
       "      <th>variable</th>\n",
       "      <th>value</th>\n",
       "      <th>unit</th>\n",
       "    </tr>\n",
       "  </thead>\n",
       "  <tbody>\n",
       "    <tr>\n",
       "      <th>0</th>\n",
       "      <td>2011</td>\n",
       "      <td>A</td>\n",
       "      <td>Agriculture, Forestry and Fishing</td>\n",
       "      <td>a_0</td>\n",
       "      <td>Activity unit</td>\n",
       "      <td>46134</td>\n",
       "      <td>COUNT</td>\n",
       "    </tr>\n",
       "    <tr>\n",
       "      <th>1</th>\n",
       "      <td>2011</td>\n",
       "      <td>A</td>\n",
       "      <td>Agriculture, Forestry and Fishing</td>\n",
       "      <td>a_0</td>\n",
       "      <td>Rolling mean employees</td>\n",
       "      <td>0</td>\n",
       "      <td>COUNT</td>\n",
       "    </tr>\n",
       "  </tbody>\n",
       "</table>\n",
       "</div>"
      ],
      "text/plain": [
       "   year industry_code_ANZSIC               industry_name_ANZSIC rme_size_grp  \\\n",
       "0  2011                    A  Agriculture, Forestry and Fishing          a_0   \n",
       "1  2011                    A  Agriculture, Forestry and Fishing          a_0   \n",
       "\n",
       "                 variable  value   unit  \n",
       "0           Activity unit  46134  COUNT  \n",
       "1  Rolling mean employees      0  COUNT  "
      ]
     },
     "execution_count": 43,
     "metadata": {},
     "output_type": "execute_result"
    }
   ],
   "source": [
    "df.head(2)"
   ]
  },
  {
   "cell_type": "code",
   "execution_count": 44,
   "id": "32b61422",
   "metadata": {},
   "outputs": [
    {
     "data": {
      "text/html": [
       "<div>\n",
       "<style scoped>\n",
       "    .dataframe tbody tr th:only-of-type {\n",
       "        vertical-align: middle;\n",
       "    }\n",
       "\n",
       "    .dataframe tbody tr th {\n",
       "        vertical-align: top;\n",
       "    }\n",
       "\n",
       "    .dataframe thead th {\n",
       "        text-align: right;\n",
       "    }\n",
       "</style>\n",
       "<table border=\"1\" class=\"dataframe\">\n",
       "  <thead>\n",
       "    <tr style=\"text-align: right;\">\n",
       "      <th></th>\n",
       "      <th>year</th>\n",
       "      <th>industry_code_ANZSIC</th>\n",
       "      <th>industry_name_ANZSIC</th>\n",
       "      <th>rme_size_grp</th>\n",
       "      <th>variable</th>\n",
       "      <th>value</th>\n",
       "      <th>unit</th>\n",
       "    </tr>\n",
       "  </thead>\n",
       "  <tbody>\n",
       "    <tr>\n",
       "      <th>15475</th>\n",
       "      <td>2020</td>\n",
       "      <td>all</td>\n",
       "      <td>All Industries</td>\n",
       "      <td>j_Grand_Total</td>\n",
       "      <td>Total income</td>\n",
       "      <td>733258</td>\n",
       "      <td>DOLLARS(millions)</td>\n",
       "    </tr>\n",
       "    <tr>\n",
       "      <th>15476</th>\n",
       "      <td>2020</td>\n",
       "      <td>all</td>\n",
       "      <td>All Industries</td>\n",
       "      <td>j_Grand_Total</td>\n",
       "      <td>Total expenditure</td>\n",
       "      <td>654872</td>\n",
       "      <td>DOLLARS(millions)</td>\n",
       "    </tr>\n",
       "    <tr>\n",
       "      <th>15477</th>\n",
       "      <td>2020</td>\n",
       "      <td>all</td>\n",
       "      <td>All Industries</td>\n",
       "      <td>j_Grand_Total</td>\n",
       "      <td>Operating profit before tax</td>\n",
       "      <td>77389</td>\n",
       "      <td>DOLLARS(millions)</td>\n",
       "    </tr>\n",
       "    <tr>\n",
       "      <th>15478</th>\n",
       "      <td>2020</td>\n",
       "      <td>all</td>\n",
       "      <td>All Industries</td>\n",
       "      <td>j_Grand_Total</td>\n",
       "      <td>Total assets</td>\n",
       "      <td>2396143</td>\n",
       "      <td>DOLLARS(millions)</td>\n",
       "    </tr>\n",
       "    <tr>\n",
       "      <th>15479</th>\n",
       "      <td>2020</td>\n",
       "      <td>all</td>\n",
       "      <td>All Industries</td>\n",
       "      <td>j_Grand_Total</td>\n",
       "      <td>Fixed tangible assets</td>\n",
       "      <td>562646</td>\n",
       "      <td>DOLLARS(millions)</td>\n",
       "    </tr>\n",
       "  </tbody>\n",
       "</table>\n",
       "</div>"
      ],
      "text/plain": [
       "       year industry_code_ANZSIC industry_name_ANZSIC   rme_size_grp  \\\n",
       "15475  2020                  all       All Industries  j_Grand_Total   \n",
       "15476  2020                  all       All Industries  j_Grand_Total   \n",
       "15477  2020                  all       All Industries  j_Grand_Total   \n",
       "15478  2020                  all       All Industries  j_Grand_Total   \n",
       "15479  2020                  all       All Industries  j_Grand_Total   \n",
       "\n",
       "                          variable    value               unit  \n",
       "15475                 Total income   733258  DOLLARS(millions)  \n",
       "15476            Total expenditure   654872  DOLLARS(millions)  \n",
       "15477  Operating profit before tax    77389  DOLLARS(millions)  \n",
       "15478                 Total assets  2396143  DOLLARS(millions)  \n",
       "15479        Fixed tangible assets   562646  DOLLARS(millions)  "
      ]
     },
     "execution_count": 44,
     "metadata": {},
     "output_type": "execute_result"
    }
   ],
   "source": [
    "df.tail()"
   ]
  },
  {
   "cell_type": "code",
   "execution_count": 23,
   "id": "bf2d2b51",
   "metadata": {},
   "outputs": [
    {
     "name": "stdout",
     "output_type": "stream",
     "text": [
      "<class 'pandas.core.frame.DataFrame'>\n",
      "RangeIndex: 15480 entries, 0 to 15479\n",
      "Data columns (total 7 columns):\n",
      " #   Column                Non-Null Count  Dtype \n",
      "---  ------                --------------  ----- \n",
      " 0   year                  15480 non-null  int64 \n",
      " 1   industry_code_ANZSIC  15480 non-null  object\n",
      " 2   industry_name_ANZSIC  15480 non-null  object\n",
      " 3   rme_size_grp          15480 non-null  object\n",
      " 4   variable              15480 non-null  object\n",
      " 5   value                 15480 non-null  object\n",
      " 6   unit                  15480 non-null  object\n",
      "dtypes: int64(1), object(6)\n",
      "memory usage: 483.8+ KB\n"
     ]
    }
   ],
   "source": [
    "df.info()"
   ]
  },
  {
   "cell_type": "code",
   "execution_count": 40,
   "id": "d8db1955",
   "metadata": {},
   "outputs": [],
   "source": [
    "pd.set_option('display.max_columns',7)\n",
    "\n",
    "pd.set_option('display.max_rows',7)"
   ]
  },
  {
   "cell_type": "code",
   "execution_count": 27,
   "id": "e38a9486",
   "metadata": {},
   "outputs": [],
   "source": [
    "schema_df=pd.read_csv(r'/storage/emulated/0/Download/readpdfile.csv')"
   ]
  },
  {
   "cell_type": "code",
   "execution_count": 41,
   "id": "9d34dfd2",
   "metadata": {},
   "outputs": [
    {
     "name": "stdout",
     "output_type": "stream",
     "text": [
      "       year industry_code_ANZSIC               industry_name_ANZSIC  \\\n",
      "0      2011                    A  Agriculture, Forestry and Fishing   \n",
      "1      2011                    A  Agriculture, Forestry and Fishing   \n",
      "2      2011                    A  Agriculture, Forestry and Fishing   \n",
      "...     ...                  ...                                ...   \n",
      "15477  2020                  all                     All Industries   \n",
      "15478  2020                  all                     All Industries   \n",
      "15479  2020                  all                     All Industries   \n",
      "\n",
      "        rme_size_grp                     variable    value               unit  \n",
      "0                a_0                Activity unit    46134              COUNT  \n",
      "1                a_0       Rolling mean employees        0              COUNT  \n",
      "2                a_0      Salaries and wages paid      279  DOLLARS(millions)  \n",
      "...              ...                          ...      ...                ...  \n",
      "15477  j_Grand_Total  Operating profit before tax    77389  DOLLARS(millions)  \n",
      "15478  j_Grand_Total                 Total assets  2396143  DOLLARS(millions)  \n",
      "15479  j_Grand_Total        Fixed tangible assets   562646  DOLLARS(millions)  \n",
      "\n",
      "[15480 rows x 7 columns]\n"
     ]
    }
   ],
   "source": [
    "print(schema_df)"
   ]
  }
 ],
 "metadata": {
  "kernelspec": {
   "display_name": "Python 3 (ipykernel)",
   "language": "python",
   "name": "python3"
  },
  "language_info": {
   "codemirror_mode": {
    "name": "ipython",
    "version": 3
   },
   "file_extension": ".py",
   "mimetype": "text/x-python",
   "name": "python",
   "nbconvert_exporter": "python",
   "pygments_lexer": "ipython3",
   "version": "3.9.7"
  }
 },
 "nbformat": 4,
 "nbformat_minor": 5
}
